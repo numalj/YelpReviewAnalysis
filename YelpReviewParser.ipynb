{
 "cells": [
  {
   "cell_type": "code",
   "execution_count": 107,
   "metadata": {},
   "outputs": [],
   "source": [
    "import requests\n",
    "import json\n",
    "\n",
    "from lxml import html\n",
    "\n",
    "import matplotlib.pyplot as plt\n",
    "import numpy as np\n",
    "\n",
    "import random\n",
    "import time\n",
    "from pprint import pprint"
   ]
  },
  {
   "cell_type": "code",
   "execution_count": 108,
   "metadata": {},
   "outputs": [],
   "source": [
    "YELP_TOKEN = \"26oHkEyYL4zBMAzhjcSqhWF-bd0H_esyiB5L_1koKyCVGIAusr72qmVgjctQClrDbjpH5gwXP7aC1Ene5qKraq-cYGq9xJ3ySoj4PTpd8dvSVZq6BJlmuDyTV2sCXnYx\"\n",
    "user_agent='Mozilla/5.0 (Macintosh; Intel Mac OS X 10_15_2) AppleWebKit/537.36 (KHTML, like Gecko) Chrome/79.0.3945.88 Safari/537.36'\n",
    "headers = {'User-Agent': user_agent}\n",
    "\n",
    "## Scraping parameters\n",
    "SLEEP_TIME = 0.2 #200ms\n",
    "MAX_BUSINESSES = 50\n",
    "REVIEW_LOCATION = 'Toronto'\n",
    "\n",
    "\n",
    "#r = requests.get(\"https://pokeapi.co/api/v2/pokemon-species/\")\n",
    "#r = requests.get(\"https://www.yelp.com/biz/mZRKH9ngRY92bI_irrHq6w/review_feed?rl=en&sort_by=rating_asc&q=&start=0\")\n",
    "#r"
   ]
  },
  {
   "cell_type": "code",
   "execution_count": 109,
   "metadata": {},
   "outputs": [],
   "source": [
    "r = requests.get(\"https://api.yelp.com/v3/businesses/search?location=%s&limit=%s\" % (REVIEW_LOCATION, str(MAX_BUSINESSES)), headers={\"Authorization\": \"Bearer %s\" % YELP_TOKEN})"
   ]
  },
  {
   "cell_type": "code",
   "execution_count": null,
   "metadata": {},
   "outputs": [],
   "source": []
  },
  {
   "cell_type": "code",
   "execution_count": 110,
   "metadata": {},
   "outputs": [],
   "source": [
    "def get_business_review(business_id):\n",
    "\n",
    "    best_reviews_url_suffix = '/review_feed?rl=en&sort_by=rating_desc&q=&start='\n",
    "    worst_reviews_url_suffix = '/review_feed?rl=en&sort_by=rating_asc&q=&start='\n",
    "    \n",
    "    review_suffixes=[]\n",
    "    review_suffixes.append(best_reviews_url_suffix)\n",
    "    review_suffixes.append(worst_reviews_url_suffix)\n",
    "    \n",
    "    page_num = 0 #can change this to \n",
    "    review_labels = []\n",
    "    \n",
    "    for review_suffix in review_suffixes:\n",
    "        review_url = 'https://www.yelp.com/biz/'+business_id+review_suffix+str(page_num) #the 'start' number here cab be changed for pagination\n",
    "        page = requests.get(review_url, headers = headers)\n",
    "        print(review_url,page.status_code, page.reason)\n",
    "        #print(page.json().keys()) #Outputs: dict_keys(['snippet_serial', 'header', 'pagination', 'review_list', 'full_page_url'])\n",
    "                                  #Can use pagination to extract maximum number of pages to iterate through if we wanted more reviews\n",
    "\n",
    "        #for page_num in range(0,maxPage) OR might extract the href from the pagination html and use that directly\n",
    "                  \n",
    "        tree = html.fromstring(page.json()['review_list'])\n",
    "    \n",
    "        review_boxes = '//div[@class=\"review review--with-sidebar\"]'\n",
    "        reviews = tree.xpath(review_boxes)\n",
    "    \n",
    "        for review in reviews:\n",
    "            xpath_rating = './/div[contains(@class, \"i-stars i-stars--regular\")]/@title'\n",
    "            xpath_user  = './/a[@id=\"dropdown_user-name\"]//text()'\n",
    "            xpath_body    = './/p[@lang=\"en\"]//text()'\n",
    "        \n",
    "            rating_str=review.xpath(xpath_rating) #returns a list. Can have more than one rating in the case of updated reviews. The first rating is the most recent\n",
    "            rating_val = rating_str[0][0]\n",
    "            rating = int(rating_val)\n",
    "            user  = review.xpath(xpath_user)\n",
    "            body_sentences = review.xpath(xpath_body)\n",
    "            body = ''\n",
    "            for sentence in body_sentences:\n",
    "                body=body+\" \"+sentence\n",
    "            #print(user)\n",
    "            #print(body)\n",
    "            #print(rating)\n",
    "            #print()\n",
    "        \n",
    "            review_labels.append([body,\"positive\" if rating>3 else \"negative\"])\n",
    "        \n",
    "    return review_labels"
   ]
  },
  {
   "cell_type": "code",
   "execution_count": 111,
   "metadata": {},
   "outputs": [
    {
     "name": "stdout",
     "output_type": "stream",
     "text": [
      "50\n",
      "<Response [200]>\n"
     ]
    }
   ],
   "source": [
    "bus_ids = []\n",
    "for business in r.json()['businesses']:\n",
    "    bus_ids.append((business['id'],business['url']))\n",
    "    #reviews = requests.get(\"https://api.yelp.com/v3/businesses/%s/reviews\" % business['id'], headers={\"Authorization\": \"Bearer %s\" % YELP_TOKEN})\n",
    "    #print(len(reviews.json()['reviews']))\n",
    "    \n",
    "print(len(bus_ids))\n",
    "print(reviews)"
   ]
  },
  {
   "cell_type": "code",
   "execution_count": 112,
   "metadata": {},
   "outputs": [
    {
     "name": "stdout",
     "output_type": "stream",
     "text": [
      "https://www.yelp.com/biz/r_BrIgzYcwo1NAuG9dLbpg/review_feed?rl=en&sort_by=rating_desc&q=&start=0 200 OK\n",
      "https://www.yelp.com/biz/r_BrIgzYcwo1NAuG9dLbpg/review_feed?rl=en&sort_by=rating_asc&q=&start=0 200 OK\n",
      "https://www.yelp.com/biz/iGEvDk6hsizigmXhDKs2Vg/review_feed?rl=en&sort_by=rating_desc&q=&start=0 200 OK\n",
      "https://www.yelp.com/biz/iGEvDk6hsizigmXhDKs2Vg/review_feed?rl=en&sort_by=rating_asc&q=&start=0 200 OK\n",
      "https://www.yelp.com/biz/RtUvSWO_UZ8V3Wpj0n077w/review_feed?rl=en&sort_by=rating_desc&q=&start=0 200 OK\n",
      "https://www.yelp.com/biz/RtUvSWO_UZ8V3Wpj0n077w/review_feed?rl=en&sort_by=rating_asc&q=&start=0 200 OK\n",
      "https://www.yelp.com/biz/N93EYZy9R0sdlEvubu94ig/review_feed?rl=en&sort_by=rating_desc&q=&start=0 200 OK\n",
      "https://www.yelp.com/biz/N93EYZy9R0sdlEvubu94ig/review_feed?rl=en&sort_by=rating_asc&q=&start=0 200 OK\n",
      "https://www.yelp.com/biz/mZRKH9ngRY92bI_irrHq6w/review_feed?rl=en&sort_by=rating_desc&q=&start=0 200 OK\n",
      "https://www.yelp.com/biz/mZRKH9ngRY92bI_irrHq6w/review_feed?rl=en&sort_by=rating_asc&q=&start=0 200 OK\n",
      "https://www.yelp.com/biz/Yl2TN9c23ZGLUBSD9ks5Uw/review_feed?rl=en&sort_by=rating_desc&q=&start=0 200 OK\n",
      "https://www.yelp.com/biz/Yl2TN9c23ZGLUBSD9ks5Uw/review_feed?rl=en&sort_by=rating_asc&q=&start=0 200 OK\n",
      "https://www.yelp.com/biz/uAAWlLdsoUf872F1FKiX1A/review_feed?rl=en&sort_by=rating_desc&q=&start=0 200 OK\n",
      "https://www.yelp.com/biz/uAAWlLdsoUf872F1FKiX1A/review_feed?rl=en&sort_by=rating_asc&q=&start=0 200 OK\n",
      "https://www.yelp.com/biz/aLcFhMe6DDJ430zelCpd2A/review_feed?rl=en&sort_by=rating_desc&q=&start=0 200 OK\n",
      "https://www.yelp.com/biz/aLcFhMe6DDJ430zelCpd2A/review_feed?rl=en&sort_by=rating_asc&q=&start=0 200 OK\n",
      "https://www.yelp.com/biz/crstB-H5rOfbXhV8pX0e6g/review_feed?rl=en&sort_by=rating_desc&q=&start=0 200 OK\n",
      "https://www.yelp.com/biz/crstB-H5rOfbXhV8pX0e6g/review_feed?rl=en&sort_by=rating_asc&q=&start=0 200 OK\n",
      "https://www.yelp.com/biz/pSMK_FtULKiU-iuh7SMKwg/review_feed?rl=en&sort_by=rating_desc&q=&start=0 200 OK\n",
      "https://www.yelp.com/biz/pSMK_FtULKiU-iuh7SMKwg/review_feed?rl=en&sort_by=rating_asc&q=&start=0 200 OK\n",
      "https://www.yelp.com/biz/0a2O150ytxrDjDzXNfRWkA/review_feed?rl=en&sort_by=rating_desc&q=&start=0 200 OK\n",
      "https://www.yelp.com/biz/0a2O150ytxrDjDzXNfRWkA/review_feed?rl=en&sort_by=rating_asc&q=&start=0 200 OK\n",
      "https://www.yelp.com/biz/ZumOnWbstgsIE6bJlxw0_Q/review_feed?rl=en&sort_by=rating_desc&q=&start=0 200 OK\n",
      "https://www.yelp.com/biz/ZumOnWbstgsIE6bJlxw0_Q/review_feed?rl=en&sort_by=rating_asc&q=&start=0 200 OK\n",
      "https://www.yelp.com/biz/f5O7v_X_jCg2itqacRfxhg/review_feed?rl=en&sort_by=rating_desc&q=&start=0 200 OK\n",
      "https://www.yelp.com/biz/f5O7v_X_jCg2itqacRfxhg/review_feed?rl=en&sort_by=rating_asc&q=&start=0 200 OK\n",
      "https://www.yelp.com/biz/fh8a_k9oslEDSHbmJLzUrQ/review_feed?rl=en&sort_by=rating_desc&q=&start=0 200 OK\n",
      "https://www.yelp.com/biz/fh8a_k9oslEDSHbmJLzUrQ/review_feed?rl=en&sort_by=rating_asc&q=&start=0 200 OK\n",
      "https://www.yelp.com/biz/q9_gLvTNf11etVxbH7JY0Q/review_feed?rl=en&sort_by=rating_desc&q=&start=0 200 OK\n",
      "https://www.yelp.com/biz/q9_gLvTNf11etVxbH7JY0Q/review_feed?rl=en&sort_by=rating_asc&q=&start=0 200 OK\n",
      "https://www.yelp.com/biz/e41TP5cXZqSrz50xCBJqZw/review_feed?rl=en&sort_by=rating_desc&q=&start=0 200 OK\n",
      "https://www.yelp.com/biz/e41TP5cXZqSrz50xCBJqZw/review_feed?rl=en&sort_by=rating_asc&q=&start=0 200 OK\n",
      "https://www.yelp.com/biz/g6AFW-zY0wDvBl9U82g4zg/review_feed?rl=en&sort_by=rating_desc&q=&start=0 200 OK\n",
      "https://www.yelp.com/biz/g6AFW-zY0wDvBl9U82g4zg/review_feed?rl=en&sort_by=rating_asc&q=&start=0 200 OK\n",
      "https://www.yelp.com/biz/B70iTJjcPkuYn8ouUewWgw/review_feed?rl=en&sort_by=rating_desc&q=&start=0 200 OK\n",
      "https://www.yelp.com/biz/B70iTJjcPkuYn8ouUewWgw/review_feed?rl=en&sort_by=rating_asc&q=&start=0 200 OK\n",
      "https://www.yelp.com/biz/JMiaNitMzMbJm6Kh0RbT5A/review_feed?rl=en&sort_by=rating_desc&q=&start=0 200 OK\n",
      "https://www.yelp.com/biz/JMiaNitMzMbJm6Kh0RbT5A/review_feed?rl=en&sort_by=rating_asc&q=&start=0 200 OK\n",
      "https://www.yelp.com/biz/h_4dPV9M9aYaBliH1Eoeeg/review_feed?rl=en&sort_by=rating_desc&q=&start=0 200 OK\n",
      "https://www.yelp.com/biz/h_4dPV9M9aYaBliH1Eoeeg/review_feed?rl=en&sort_by=rating_asc&q=&start=0 200 OK\n",
      "https://www.yelp.com/biz/trKyIRyjKqVSZmcU0AnICQ/review_feed?rl=en&sort_by=rating_desc&q=&start=0 200 OK\n",
      "https://www.yelp.com/biz/trKyIRyjKqVSZmcU0AnICQ/review_feed?rl=en&sort_by=rating_asc&q=&start=0 200 OK\n",
      "https://www.yelp.com/biz/c6f8wBjPLDzyubEBqgcMnw/review_feed?rl=en&sort_by=rating_desc&q=&start=0 200 OK\n",
      "https://www.yelp.com/biz/c6f8wBjPLDzyubEBqgcMnw/review_feed?rl=en&sort_by=rating_asc&q=&start=0 200 OK\n",
      "https://www.yelp.com/biz/k6zmSLmYAquCpJGKNnTgSQ/review_feed?rl=en&sort_by=rating_desc&q=&start=0 200 OK\n",
      "https://www.yelp.com/biz/k6zmSLmYAquCpJGKNnTgSQ/review_feed?rl=en&sort_by=rating_asc&q=&start=0 200 OK\n",
      "https://www.yelp.com/biz/kOFDVcnj-8fd3doIpCQ06A/review_feed?rl=en&sort_by=rating_desc&q=&start=0 200 OK\n",
      "https://www.yelp.com/biz/kOFDVcnj-8fd3doIpCQ06A/review_feed?rl=en&sort_by=rating_asc&q=&start=0 200 OK\n",
      "https://www.yelp.com/biz/RA00GtlU25TkIP9i9wd8bg/review_feed?rl=en&sort_by=rating_desc&q=&start=0 200 OK\n",
      "https://www.yelp.com/biz/RA00GtlU25TkIP9i9wd8bg/review_feed?rl=en&sort_by=rating_asc&q=&start=0 200 OK\n",
      "https://www.yelp.com/biz/_T7f2wUgNlJqxsR-cR89SQ/review_feed?rl=en&sort_by=rating_desc&q=&start=0 200 OK\n",
      "https://www.yelp.com/biz/_T7f2wUgNlJqxsR-cR89SQ/review_feed?rl=en&sort_by=rating_asc&q=&start=0 200 OK\n",
      "https://www.yelp.com/biz/snw9iNNLpFYZeHotW00uVA/review_feed?rl=en&sort_by=rating_desc&q=&start=0 200 OK\n",
      "https://www.yelp.com/biz/snw9iNNLpFYZeHotW00uVA/review_feed?rl=en&sort_by=rating_asc&q=&start=0 200 OK\n",
      "https://www.yelp.com/biz/Qmwfg-PtYuCo5Q_IwcA_HQ/review_feed?rl=en&sort_by=rating_desc&q=&start=0 200 OK\n",
      "https://www.yelp.com/biz/Qmwfg-PtYuCo5Q_IwcA_HQ/review_feed?rl=en&sort_by=rating_asc&q=&start=0 200 OK\n",
      "https://www.yelp.com/biz/saijdv-vXJrvsCfvr7SZOw/review_feed?rl=en&sort_by=rating_desc&q=&start=0 200 OK\n",
      "https://www.yelp.com/biz/saijdv-vXJrvsCfvr7SZOw/review_feed?rl=en&sort_by=rating_asc&q=&start=0 200 OK\n",
      "https://www.yelp.com/biz/DE89UdHFMCN6DtYWZuer5A/review_feed?rl=en&sort_by=rating_desc&q=&start=0 200 OK\n",
      "https://www.yelp.com/biz/DE89UdHFMCN6DtYWZuer5A/review_feed?rl=en&sort_by=rating_asc&q=&start=0 200 OK\n",
      "https://www.yelp.com/biz/Fx5haZv9PP3E7Ljp-h7B1Q/review_feed?rl=en&sort_by=rating_desc&q=&start=0 200 OK\n",
      "https://www.yelp.com/biz/Fx5haZv9PP3E7Ljp-h7B1Q/review_feed?rl=en&sort_by=rating_asc&q=&start=0 200 OK\n",
      "https://www.yelp.com/biz/EEIz44ewHhOKmfTloAK13g/review_feed?rl=en&sort_by=rating_desc&q=&start=0 200 OK\n",
      "https://www.yelp.com/biz/EEIz44ewHhOKmfTloAK13g/review_feed?rl=en&sort_by=rating_asc&q=&start=0 200 OK\n",
      "https://www.yelp.com/biz/zfQ855VX3SMA_54oVSN5Cw/review_feed?rl=en&sort_by=rating_desc&q=&start=0 200 OK\n",
      "https://www.yelp.com/biz/zfQ855VX3SMA_54oVSN5Cw/review_feed?rl=en&sort_by=rating_asc&q=&start=0 200 OK\n",
      "https://www.yelp.com/biz/G24p1oGGfY3t-m8Z2lPCaQ/review_feed?rl=en&sort_by=rating_desc&q=&start=0 200 OK\n",
      "https://www.yelp.com/biz/G24p1oGGfY3t-m8Z2lPCaQ/review_feed?rl=en&sort_by=rating_asc&q=&start=0 200 OK\n",
      "https://www.yelp.com/biz/XYIPXJ9parr9FtvvcGI1SA/review_feed?rl=en&sort_by=rating_desc&q=&start=0 200 OK\n",
      "https://www.yelp.com/biz/XYIPXJ9parr9FtvvcGI1SA/review_feed?rl=en&sort_by=rating_asc&q=&start=0 200 OK\n",
      "https://www.yelp.com/biz/-9dmhyBvepc08KPEHlEM0w/review_feed?rl=en&sort_by=rating_desc&q=&start=0 200 OK\n",
      "https://www.yelp.com/biz/-9dmhyBvepc08KPEHlEM0w/review_feed?rl=en&sort_by=rating_asc&q=&start=0 200 OK\n",
      "https://www.yelp.com/biz/q5xrVJ4kivx_yEfJeOKNYQ/review_feed?rl=en&sort_by=rating_desc&q=&start=0 200 OK\n",
      "https://www.yelp.com/biz/q5xrVJ4kivx_yEfJeOKNYQ/review_feed?rl=en&sort_by=rating_asc&q=&start=0 200 OK\n",
      "https://www.yelp.com/biz/VRwT0pscR5vESCrAnUpNwQ/review_feed?rl=en&sort_by=rating_desc&q=&start=0 200 OK\n",
      "https://www.yelp.com/biz/VRwT0pscR5vESCrAnUpNwQ/review_feed?rl=en&sort_by=rating_asc&q=&start=0 200 OK\n",
      "https://www.yelp.com/biz/ttuEwktrkmh3TUlSFPZqAA/review_feed?rl=en&sort_by=rating_desc&q=&start=0 200 OK\n",
      "https://www.yelp.com/biz/ttuEwktrkmh3TUlSFPZqAA/review_feed?rl=en&sort_by=rating_asc&q=&start=0 200 OK\n",
      "https://www.yelp.com/biz/CN5nuUQod0f8g3oh99qq0w/review_feed?rl=en&sort_by=rating_desc&q=&start=0 200 OK\n",
      "https://www.yelp.com/biz/CN5nuUQod0f8g3oh99qq0w/review_feed?rl=en&sort_by=rating_asc&q=&start=0 200 OK\n"
     ]
    },
    {
     "name": "stdout",
     "output_type": "stream",
     "text": [
      "https://www.yelp.com/biz/c35qzLN6ItDpVIoj2uQW4Q/review_feed?rl=en&sort_by=rating_desc&q=&start=0 200 OK\n",
      "https://www.yelp.com/biz/c35qzLN6ItDpVIoj2uQW4Q/review_feed?rl=en&sort_by=rating_asc&q=&start=0 200 OK\n",
      "https://www.yelp.com/biz/eD-XLSo-j8uIoTnIlrG8YA/review_feed?rl=en&sort_by=rating_desc&q=&start=0 200 OK\n",
      "https://www.yelp.com/biz/eD-XLSo-j8uIoTnIlrG8YA/review_feed?rl=en&sort_by=rating_asc&q=&start=0 200 OK\n",
      "https://www.yelp.com/biz/lDpVyjENOz_qbxbRoyBi8w/review_feed?rl=en&sort_by=rating_desc&q=&start=0 200 OK\n",
      "https://www.yelp.com/biz/lDpVyjENOz_qbxbRoyBi8w/review_feed?rl=en&sort_by=rating_asc&q=&start=0 200 OK\n",
      "https://www.yelp.com/biz/L-Yj3Y1bYKTSg4uE9KTVBw/review_feed?rl=en&sort_by=rating_desc&q=&start=0 200 OK\n",
      "https://www.yelp.com/biz/L-Yj3Y1bYKTSg4uE9KTVBw/review_feed?rl=en&sort_by=rating_asc&q=&start=0 200 OK\n",
      "https://www.yelp.com/biz/4_EgrMY-EI-i-xyWixI2qg/review_feed?rl=en&sort_by=rating_desc&q=&start=0 200 OK\n",
      "https://www.yelp.com/biz/4_EgrMY-EI-i-xyWixI2qg/review_feed?rl=en&sort_by=rating_asc&q=&start=0 200 OK\n",
      "https://www.yelp.com/biz/hDy-uY7Vy_TZdGBzw59lhA/review_feed?rl=en&sort_by=rating_desc&q=&start=0 200 OK\n",
      "https://www.yelp.com/biz/hDy-uY7Vy_TZdGBzw59lhA/review_feed?rl=en&sort_by=rating_asc&q=&start=0 200 OK\n",
      "https://www.yelp.com/biz/O-uIEuv7JLUHajkemx_sVw/review_feed?rl=en&sort_by=rating_desc&q=&start=0 200 OK\n",
      "https://www.yelp.com/biz/O-uIEuv7JLUHajkemx_sVw/review_feed?rl=en&sort_by=rating_asc&q=&start=0 200 OK\n",
      "https://www.yelp.com/biz/SxvKjtbq5qRlFoXrU8Bo9Q/review_feed?rl=en&sort_by=rating_desc&q=&start=0 200 OK\n",
      "https://www.yelp.com/biz/SxvKjtbq5qRlFoXrU8Bo9Q/review_feed?rl=en&sort_by=rating_asc&q=&start=0 200 OK\n",
      "https://www.yelp.com/biz/sXg2NCfiCqK_X_4R5NK_jQ/review_feed?rl=en&sort_by=rating_desc&q=&start=0 200 OK\n",
      "https://www.yelp.com/biz/sXg2NCfiCqK_X_4R5NK_jQ/review_feed?rl=en&sort_by=rating_asc&q=&start=0 200 OK\n",
      "https://www.yelp.com/biz/Uq-GOs9_IqweUsB5MdII9w/review_feed?rl=en&sort_by=rating_desc&q=&start=0 200 OK\n",
      "https://www.yelp.com/biz/Uq-GOs9_IqweUsB5MdII9w/review_feed?rl=en&sort_by=rating_asc&q=&start=0 200 OK\n"
     ]
    }
   ],
   "source": [
    "#page = get_business_review(bus_ids[0][0])\n",
    "review_labels=[]\n",
    "for (x,y) in bus_ids:\n",
    "    review_label_business = get_business_review(x)\n",
    "    time.sleep(SLEEP_TIME)\n",
    "    review_labels += review_label_business"
   ]
  },
  {
   "cell_type": "code",
   "execution_count": 113,
   "metadata": {},
   "outputs": [],
   "source": [
    "#review_labels"
   ]
  },
  {
   "cell_type": "code",
   "execution_count": 114,
   "metadata": {},
   "outputs": [
    {
     "data": {
      "text/plain": [
       "2000"
      ]
     },
     "execution_count": 114,
     "metadata": {},
     "output_type": "execute_result"
    }
   ],
   "source": [
    "f = open(\"data.json\", \"w\")\n",
    "f.write(str(review_labels))\n",
    "#f.write('\\n'.join('%s %s' % x for x in review_labels))\n",
    "#for review_label in review_labels:\n",
    "#    f.write(review_label)\n",
    "#    f.write(',')\n",
    "\n",
    "#f.rstrip(',')\n",
    "#f.write(']')\n",
    "f.close()\n",
    "\n",
    "len(review_labels)"
   ]
  },
  {
   "cell_type": "code",
   "execution_count": 115,
   "metadata": {},
   "outputs": [],
   "source": [
    "#Extract features\n",
    "review_features = []\n",
    "review_features2 = []\n",
    "for (body,rating) in review_labels:\n",
    "    feature_list = []\n",
    "    for word in body.split(\" \"):\n",
    "            feature_list.append(word)\n",
    "    review_features.append((feature_list, rating ))\n",
    "#review_features"
   ]
  },
  {
   "cell_type": "code",
   "execution_count": 116,
   "metadata": {},
   "outputs": [
    {
     "data": {
      "text/plain": [
       "2000"
      ]
     },
     "execution_count": 116,
     "metadata": {},
     "output_type": "execute_result"
    }
   ],
   "source": [
    "len(review_features)"
   ]
  },
  {
   "cell_type": "code",
   "execution_count": 117,
   "metadata": {},
   "outputs": [
    {
     "name": "stdout",
     "output_type": "stream",
     "text": [
      "Training: 1400, Testing: 600\n"
     ]
    }
   ],
   "source": [
    "from nltk.sentiment import SentimentAnalyzer\n",
    "import nltk.sentiment.util\n",
    "from nltk.classify import NaiveBayesClassifier\n",
    "\n",
    "TRAIN_SAMPLE_COUNT = int(len(review_features)*0.7)\n",
    "random.shuffle(review_features)\n",
    "training_docs = review_features[:TRAIN_SAMPLE_COUNT]\n",
    "test_docs = review_features[TRAIN_SAMPLE_COUNT:]\n",
    "\n",
    "print(\"Training: %d, Testing: %d\" % (len(training_docs), len(test_docs)))\n",
    "\n",
    "sentim_analyzer = SentimentAnalyzer()"
   ]
  },
  {
   "cell_type": "code",
   "execution_count": 118,
   "metadata": {},
   "outputs": [],
   "source": [
    "all_words_neg = sentim_analyzer.all_words([nltk.sentiment.util.mark_negation(doc) for doc in training_docs])\n",
    "#all_words_neg"
   ]
  },
  {
   "cell_type": "code",
   "execution_count": 119,
   "metadata": {},
   "outputs": [],
   "source": [
    "unigram_feats = sentim_analyzer.unigram_word_feats(all_words_neg, min_freq=4)\n",
    "sentim_analyzer.add_feat_extractor(nltk.sentiment.util.extract_unigram_feats, unigrams=unigram_feats)"
   ]
  },
  {
   "cell_type": "code",
   "execution_count": 120,
   "metadata": {},
   "outputs": [],
   "source": [
    "training_set = sentim_analyzer.apply_features(training_docs)\n",
    "test_set = sentim_analyzer.apply_features(test_docs)"
   ]
  },
  {
   "cell_type": "code",
   "execution_count": 121,
   "metadata": {},
   "outputs": [
    {
     "name": "stdout",
     "output_type": "stream",
     "text": [
      "Training classifier\n",
      "Evaluating NaiveBayesClassifier results...\n",
      "Accuracy: 0.74\n",
      "F-measure [negative]: 0.7291666666666666\n",
      "F-measure [positive]: 0.75\n",
      "Precision [negative]: 0.8015267175572519\n",
      "Precision [positive]: 0.6923076923076923\n",
      "Recall [negative]: 0.6687898089171974\n",
      "Recall [positive]: 0.8181818181818182\n"
     ]
    }
   ],
   "source": [
    "trainer = NaiveBayesClassifier.train\n",
    "classifier = sentim_analyzer.train(trainer, training_set)\n",
    "for key,value in sorted(sentim_analyzer.evaluate(test_set).items()):\n",
    "     print('{0}: {1}'.format(key, value))"
   ]
  },
  {
   "cell_type": "code",
   "execution_count": null,
   "metadata": {},
   "outputs": [],
   "source": []
  }
 ],
 "metadata": {
  "kernelspec": {
   "display_name": "Python 3",
   "language": "python",
   "name": "python3"
  },
  "language_info": {
   "codemirror_mode": {
    "name": "ipython",
    "version": 3
   },
   "file_extension": ".py",
   "mimetype": "text/x-python",
   "name": "python",
   "nbconvert_exporter": "python",
   "pygments_lexer": "ipython3",
   "version": "3.7.3"
  }
 },
 "nbformat": 4,
 "nbformat_minor": 2
}
